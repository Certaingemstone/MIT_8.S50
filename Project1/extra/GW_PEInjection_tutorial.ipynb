{
 "cells": [
  {
   "cell_type": "markdown",
   "metadata": {},
   "source": [
    "# Project: GW injection and Parameter estimation¶\n",
    "Author: Tri Nguyen\n",
    "\n",
    "In this tutorial, we will inject a gravitational-wave (GW) signal into LIGO data and perform parameter estimation on a redudced parameter space to extract the parameters of the signal. We will be utilizing the Bilby, which is a Python-based user-friendly Bayesian inference library for GW data analysis. For more information about Bilby, please visit: https://lscsoft.docs.ligo.org/bilby/ and https://arxiv.org/pdf/1811.02042.pdf. \n",
    "\n",
    "\n",
    "This notebook is based on the Bilby tutorial for GW injection and parameter estimation."
   ]
  },
  {
   "cell_type": "code",
   "execution_count": null,
   "metadata": {},
   "outputs": [],
   "source": [
    "# Install Bilby and some of its dependency\n",
    "!pip install bilby\n",
    "!pip install gwpy lalsuite"
   ]
  },
  {
   "cell_type": "code",
   "execution_count": null,
   "metadata": {},
   "outputs": [],
   "source": [
    "from __future__ import division, print_function\n",
    "\n",
    "import numpy as np\n",
    "import scipy.signal as sig\n",
    "import matplotlib.pyplot as plt\n",
    "\n",
    "import bilby\n",
    "from bilby.gw.source import lal_binary_black_hole\n",
    "from bilby.gw.conversion import convert_to_lal_binary_black_hole_parameters\n",
    "\n",
    "%matplotlib inline"
   ]
  },
  {
   "cell_type": "markdown",
   "metadata": {},
   "source": [
    "## Gravitational-wave injection\n",
    "### Example\n",
    "\n",
    "In the example, we will inject a binary black hole (BBH) into a Gaussian noise background."
   ]
  },
  {
   "cell_type": "code",
   "execution_count": null,
   "metadata": {},
   "outputs": [],
   "source": [
    "# Set random seed for reproducibility\n",
    "np.random.seed(74656541)"
   ]
  },
  {
   "cell_type": "code",
   "execution_count": null,
   "metadata": {},
   "outputs": [],
   "source": [
    "# We are going to inject a binary black hole waveform.  We first establish a\n",
    "# dictionary of parameters that includes all of the different waveform\n",
    "# parameters, including masses of the two black holes (mass_1, mass_2),\n",
    "# spins of both black holes (a, tilt, phi), etc.\n",
    "# make up some injection parameters and inject signal into data\n",
    "injection_parameters = dict(\n",
    "    mass_1=50, mass_2=50, a_1=0., a_2=0., tilt_1=0., tilt_2=0.,\n",
    "    phi_12=0., phi_jl=0., luminosity_distance=500, theta_jn=0., psi=0.,\n",
    "    phase=0.2, geocent_time=1243309096, ra=0., dec=0.)\n",
    "\n",
    "\n",
    "\n",
    "# First, we define the duration and sampling frequency of the data segment\n",
    "# that we will inject the GW signal into. For our BBH, a duration of 4 seconds \n",
    "# will be sufficient to capture the entire waveform.\n",
    "duration = 4.\n",
    "# We set the sampling frequency to 2048 Hz because the BBH waveform does not usually\n",
    "# extend pass 1024 Hz \n",
    "sampling_frequency = 2048."
   ]
  },
  {
   "cell_type": "code",
   "execution_count": null,
   "metadata": {},
   "outputs": [],
   "source": [
    "# LIGO approximates GW waveforms by interpolating between GW templates in a template bank\n",
    "# which is generated from physical simulations (e.g. numerical relativity, post-Newtonian). \n",
    "# These waveform families are called **waveform approximant**. \n",
    "# For more information on these waveform approximants, please visit: \n",
    "\n",
    "# https://www.lsc-group.phys.uwm.edu/ligovirgo/cbcnote/Waveforms/Overview\n",
    "\n",
    "# In this example, we will use the waveform approximant `IMRPhenomPv2`. \n",
    "# This is a phenomenological model that approximates the GW waveforms \n",
    "# during the three stages of an inspiral (Inspiral, Merger, Ringdown). `IMRPhenomPv2` also uses \n",
    "# a single-spin frequency-dependent post-Newtonian rotation  to describe spin precession effects.\n",
    "\n",
    "# We define a WaveformGenerator object to generate any BBH waveform \n",
    "# given the appropriate parameters\n",
    "waveform_arguments = {\n",
    "    'waveform_approximant': 'IMRPhenomPv2',\n",
    "    'reference_frequency': 50.,  # most sensitive frequency\n",
    "    'minimum_frequency': 20.\n",
    "}\n",
    "waveform_generator = bilby.gw.WaveformGenerator(\n",
    "    duration=duration, sampling_frequency=sampling_frequency,\n",
    "    parameter_conversion=convert_to_lal_binary_black_hole_parameters,\n",
    "    frequency_domain_source_model=lal_binary_black_hole,\n",
    "    waveform_arguments=waveform_arguments)"
   ]
  },
  {
   "cell_type": "code",
   "execution_count": null,
   "metadata": {},
   "outputs": [],
   "source": [
    "# We'd like to see what kind of signal we will be generating\n",
    "# We examine the signal in the time domain\n",
    "polarizations_td = waveform_generator.time_domain_strain(injection_parameters)\n",
    "plus_td = np.roll(polarizations_td['plus'], int(sampling_frequency * 2))\n",
    "cross_td = np.roll(polarizations_td['cross'], int(sampling_frequency * 2))\n",
    "time = np.linspace(0., duration, len(plus_td))\n",
    "\n",
    "fig = plt.figure(figsize=(8, 5))\n",
    "\n",
    "plt.plot(time, plus_td, label='Plus')\n",
    "plt.plot(time, cross_td, label='Cross')\n",
    "plt.xlabel('Time [sec]')\n",
    "plt.ylabel('Strain')\n",
    "plt.xlim(1.8, 2.02)\n",
    "plt.legend()\n",
    "plt.show()\n",
    "\n",
    "# And their ASD\n",
    "NFFT = int(4 * sampling_frequency)\n",
    "freq, plus_psd = sig.welch(plus_td, fs=sampling_frequency, nperseg=NFFT)\n",
    "plus_asd = np.sqrt(plus_psd)\n",
    "\n",
    "freq, cross_psd = sig.welch(cross_td, fs=sampling_frequency, nperseg=NFFT)\n",
    "cross_asd = np.sqrt(cross_psd)\n",
    "\n",
    "fig = plt.figure(figsize=(8, 5))\n",
    "plt.loglog(freq, plus_asd, label='Plus')\n",
    "plt.loglog(freq, cross_asd, label='Cross')\n",
    "plt.xlim(10, 1024)\n",
    "plt.xlabel('Frequency [Hz]')\n",
    "plt.ylabel('ASD')\n",
    "plt.legend()\n",
    "plt.show()"
   ]
  },
  {
   "cell_type": "code",
   "execution_count": null,
   "metadata": {},
   "outputs": [],
   "source": [
    "# For this object, we will only use LIGO Hanford (H1) and LIGO Livingston (L1)\n",
    "# Because H1 and L1 have different antenna patterns (which is based on their \n",
    "# orientation and location of Earth), each will see a different GW waveform. \n",
    "# We set up Bilby Interferometer object with the GPS time around the geocenter time\n",
    "# of the GW signal. By default, each interferometer will have a Gaussian noise \n",
    "# background with the PSD being their design sensitivity.\n",
    "ifos = bilby.gw.detector.InterferometerList(['H1', 'L1'])\n",
    "ifos.set_strain_data_from_power_spectral_densities(\n",
    "    sampling_frequency=sampling_frequency, duration=duration,\n",
    "    start_time=injection_parameters['geocent_time'] - 3)\n",
    "\n",
    "# Inject GW signal into H1 and L1\n",
    "polarizations = ifos.inject_signal(waveform_generator=waveform_generator,\n",
    "                                   parameters=injection_parameters)"
   ]
  },
  {
   "cell_type": "code",
   "execution_count": null,
   "metadata": {},
   "outputs": [],
   "source": [
    "# We would like to visualize what the injected GW strain looks like\n",
    "# First, we extract the H1 and L1 strain from the Inteferometer object\n",
    "H1_strain = ifos[0].time_domain_strain\n",
    "L1_strain = ifos[1].time_domain_strain\n",
    "\n",
    "# And calculate their PSD and ASD\n",
    "NFFT = int(sampling_frequency * 4)\n",
    "freq, H1_strain_psd = sig.welch(H1_strain, fs=sampling_frequency, nperseg=NFFT)\n",
    "H1_strain_asd = np.sqrt(H1_strain_psd)\n",
    "freq, L1_strain_psd = sig.welch(L1_strain, fs=sampling_frequency, nperseg=NFFT)\n",
    "L1_strain_asd = np.sqrt(L1_strain_psd)\n",
    "\n",
    "# We also like to extract the background PSD and ASD\n",
    "H1_bg_psd = ifos[0].power_spectral_density.psd_array\n",
    "H1_bg_asd = np.sqrt(H1_bg_psd)\n",
    "L1_bg_psd = ifos[1].power_spectral_density.psd_array\n",
    "L1_bg_asd = np.sqrt(L1_bg_psd)\n",
    "freq_bg = ifos[0].power_spectral_density.frequency_array\n",
    "\n",
    "# We plot the strain ASD on top of the background ASD\n",
    "# Because we inject a loud signal (H1 optimal SNR = 73.24, L1 optimal SNR = 79.75)\n",
    "# we should be able to see the signal\n",
    "fig = plt.figure(figsize=(12, 5))\n",
    "\n",
    "# Plot H1 strain and background ASD\n",
    "ax1 = plt.subplot(121)\n",
    "ax1.loglog(freq, H1_strain_asd, label='Strain ASD')\n",
    "ax1.loglog(freq_bg, H1_bg_asd, label='Background ASD')\n",
    "ax1.set_title('H1')\n",
    "ax1.set_xlim(20, 1024)\n",
    "ax1.set_ylim(1e-26, None)\n",
    "ax1.set_xlabel('Frequency')\n",
    "ax1.set_ylabel('ASD')\n",
    "ax1.legend()\n",
    "\n",
    "# Plot L1 strain and background ASD\n",
    "ax2 = plt.subplot(122)\n",
    "ax2.loglog(freq, L1_strain_asd, label='Strain ASD')\n",
    "ax2.loglog(freq_bg, L1_bg_asd, label='Background ASD')\n",
    "ax2.set_title('L1')\n",
    "ax2.set_xlim(20, 1024)\n",
    "ax2.set_ylim(1e-26, None)\n",
    "ax2.set_xlabel('Frequency')\n",
    "ax2.set_ylabel('ASD')\n",
    "ax2.legend()\n",
    "\n",
    "plt.show()"
   ]
  },
  {
   "cell_type": "markdown",
   "metadata": {},
   "source": [
    "### Student work\n",
    "\n",
    "Now it is your time to shine. Inject a BBH with the following parameters into a Gaussian noise background:\n",
    "\n",
    "- Masses $M_1$ and $M_2$: 36 $M_\\odot$ and 29 $M_\\odot$\n",
    "- Dimensionless spin magnitudes $a_1$ and $a_2$: 0.4 and 0.3\n",
    "- Difference between the azimuthal angles of the individual spin vector projections onto the orbital plane $\\phi_{12}$: 97.4 $\\deg$\n",
    "- Difference between total and orbital angular momentum azimuthal angles $\\phi_{jl}$: 17.2 $\\deg$\n",
    "- Tilt angle between their spins and the orbital angular momentum $\\theta_1$ and $\\theta_2$: 28.6 $\\deg$ and 57.3 $\\deg$\n",
    "- Luminosity distance $D_L$: 2000 Mpc\n",
    "- Inclination angle: $\\theta_{jn}$: 22.9 $\\deg$\n",
    "- Polarisation angle $\\psi$: 152.3 $\\deg$\n",
    "- Phase at coalescence $\\phi_c$: 74.5 $\\deg$\n",
    "- Sky position RA and DEC: 78.8 $\\deg$ and -69.4$\\deg$\n",
    "- Geocentric time: GPS 1126259642.413\n",
    "\n",
    "You should use the same signal duration, sampling frequency, and waveform approximant as above. You do **not** have to reproduce the plots."
   ]
  },
  {
   "cell_type": "code",
   "execution_count": null,
   "metadata": {},
   "outputs": [],
   "source": [
    "%reset -f"
   ]
  },
  {
   "cell_type": "code",
   "execution_count": null,
   "metadata": {},
   "outputs": [],
   "source": [
    "from __future__ import division, print_function\n",
    "\n",
    "import numpy as np\n",
    "import scipy.signal as sig\n",
    "import matplotlib.pyplot as plt\n",
    "\n",
    "import bilby\n",
    "from bilby.gw.source import lal_binary_black_hole\n",
    "from bilby.gw.conversion import convert_to_lal_binary_black_hole_parameters\n",
    "\n",
    "%matplotlib inline"
   ]
  },
  {
   "cell_type": "code",
   "execution_count": null,
   "metadata": {},
   "outputs": [],
   "source": [
    "# Set random seed for reproducibility\n",
    "np.random.seed(74656541)\n",
    "\n",
    "### -------------------START-CODE-------------------- ###\n",
    "\n",
    "### -------------------END-CODE-------------------- ###"
   ]
  },
  {
   "cell_type": "markdown",
   "metadata": {},
   "source": [
    "## Parameter estimation\n",
    "\n",
    "We are now ready to extract the parameters of this GW signal from the Gaussian noise background. Our goal is to find the posterior distribution. However, because the posterior distribution is often intractable, LIGO uses posterior sampling algorithm (such as MCMC and Nested Sampling) to evaluate the posterior distribution. We will cover MCMC later in the course.\n",
    "\n",
    "\n",
    "To begin sampling the posterior distribution, we need to define the prior distribution and likelihood distribution (Remember Bayes' rule?). We will first set up the prior distribution. Bilby uses a dictionary class structure to store the prior of each GW parameters. Each prior distribution can be defined with a Bilby class object. For more information about prior dictionary in Bilby, please visit: https://lscsoft.docs.ligo.org/bilby/prior.html.\n",
    "\n",
    "Below is an example prior used to extract the parameters of the first BBH GW150914."
   ]
  },
  {
   "cell_type": "code",
   "execution_count": null,
   "metadata": {},
   "outputs": [],
   "source": [
    "example_priors = bilby.gw.prior.BBHPriorDict(filename='GW150914.prior')\n",
    "example_priors"
   ]
  },
  {
   "cell_type": "markdown",
   "metadata": {},
   "source": [
    "Now, you will create your own prior dictionary. By default, LIGO samples all 15 GW parameters (Can you name them all?). However, because this can take up to several days, we will instead work with a 2-dimensional space. Specifically, you will only sample the chirp mass $M_c$ and mass ratio $q$ of the BBH (see note). Feel free to play around with different type of priors.\n",
    "\n",
    "You might find these Bilby classes useful:\n",
    "- `bilby.prior.Uniform`\n",
    "- `bilby.prior.Gaussian`\n",
    "- `bilby.prior.DeltaFunction`\n",
    "- ...\n",
    "\n",
    "NOTE 1: We usually sample the chirp mass and mass ratio instead of the component masses $M_{1,2}$ because they tend to help the sampler converge faster and more easily. \n",
    "\n",
    "NOTE 2: You will have to define priors for the parameters that you are **not** sampling (e.g. $a_{1,2}$, $D_L$, etc.). If you don't, Bilby will use their default prior, and you will spend **a lot** of time sampling. Assume that we already know the values for these parameters, what kind of distribution should their priors be?"
   ]
  },
  {
   "cell_type": "code",
   "execution_count": null,
   "metadata": {},
   "outputs": [],
   "source": [
    "priors = {}\n",
    "\n",
    "### -------------------START-CODE-------------------- ###\n",
    "\n",
    "### -------------------END-CODE-------------------- ###\n",
    "\n",
    "priors"
   ]
  },
  {
   "cell_type": "markdown",
   "metadata": {},
   "source": [
    "Now, we will set up a Gaussian noise likelihood function. Writing the likelihood can be a bit complicate, so we will use `bilby.gw.GravitationalWaveTransient` function from Bilby. However, it is important that you understand where this function , so we'll ask you to write its equation down.  \n",
    "\n",
    "You can find your answer in this paper: https://arxiv.org/pdf/1809.02293.pdf (Hint: check the appendix)"
   ]
  },
  {
   "cell_type": "markdown",
   "metadata": {},
   "source": [
    "#### Answer:\n",
    "Remember to explain all your variables.\n",
    "\\begin{equation}\n",
    "    \\mathcal{L(d|\\theta)} = \n",
    "\\end{equation}\n",
    "where $d$ is the GW strain and $\\theta$ is a set of GW parameters."
   ]
  },
  {
   "cell_type": "code",
   "execution_count": null,
   "metadata": {},
   "outputs": [],
   "source": [
    "# Initialise the likelihood by passing in the interferometer data (ifos) and\n",
    "# the waveform generator\n",
    "likelihood = bilby.gw.GravitationalWaveTransient(\n",
    "    interferometers=ifos, waveform_generator=waveform_generator)"
   ]
  },
  {
   "cell_type": "markdown",
   "metadata": {},
   "source": [
    "Once we define the prior and likelihood distribution, we will use Bilby to sample the posterior distribution.\n",
    "\n",
    "For this example, we will use the `dynesty` sampler, which Dynamic Nested Sampling package for estimating Bayesian posteriors and evidences. For more information about `dynesty`, please visit: https://dynesty.readthedocs.io/en/latest/."
   ]
  },
  {
   "cell_type": "code",
   "execution_count": null,
   "metadata": {},
   "outputs": [],
   "source": [
    "outdir = 'GW_PEInjection_result'\n",
    "label = '2_parameters'\n",
    "result = bilby.run_sampler(\n",
    "    likelihood=likelihood, priors=priors, sampler='dynesty', npoints=1000, \n",
    "    resume=True, outdir=outdir, label=label)"
   ]
  },
  {
   "cell_type": "markdown",
   "metadata": {},
   "source": [
    "Last but not least, let's show your sampling result by making a beautiful plot. The most common way to show a multi-dimensional posterior distribution is to use a corner plot. Plotting a corner plot manually can be tricky, so we strongly recommend you to use the `corner` package (https://corner.readthedocs.io/en/latest/). However, feel free to use any plotting tool you are accustomed to.\n",
    "\n",
    "In this exercise, please plot the corner plot of the two component masses $M_1$ and $M_2$ of the BBH. Note that these are **not** the same parameters you have been sampling (which are chirp mass and mass ratio), so you will to convert your samples. You might find the chirp mass $M_c$ and mass ratio $q$ expressions below  useful:\n",
    "\n",
    "\\begin{equation}\n",
    "M_c = \\frac{(M_1 M_2)^{3/5}}{(M_1 + M_2)^{1/5}}\\; \\text{and} \\; q=\\frac{M_2}{M_1}\n",
    "\\end{equation}\n",
    "\n",
    "What are the final values of the component masses $M_1$, $M_2$ of the BBH? Please include error bars and any neccessary statistics. How are these values compared to the true injection values?"
   ]
  },
  {
   "cell_type": "code",
   "execution_count": null,
   "metadata": {},
   "outputs": [],
   "source": [
    "# First, we want to extract the posterior samples from bilby.result\n",
    "samples = result.posterior[['chirp_mass', 'mass_ratio']].values\n",
    "\n",
    "### -------------------START-CODE-------------------- ###\n",
    "\n",
    "### -------------------END-CODE-------------------- ###"
   ]
  },
  {
   "cell_type": "markdown",
   "metadata": {},
   "source": [
    "#### Answer:\n",
    "The final values of the component masses $M_1$, $M_2$ of the BBH are:"
   ]
  },
  {
   "cell_type": "markdown",
   "metadata": {},
   "source": [
    "## Conclusion\n",
    "\n",
    "Congratulations! You have reached the end of the tutorial. Parameter estimation is a tough problem in gravitational-wave physics (and many other areas of physics) due to the intractable nature of the posterior distribution. Posterior sampling algorithms, such as MCMC and Nested Sampling, help solve this problem at a cost of long run-time. This makes it difficult to perform electromagnetic follow-up of time-sensitive GW sources like binary neutron stars. \n",
    "\n",
    "Deep learning algorithms are currently being developed to accelerate the posterior sampling process:\n",
    "\n",
    "- https://arxiv.org/abs/2010.12931\n",
    "- https://arxiv.org/abs/2002.07656\n",
    "- https://arxiv.org/abs/2008.03312\n",
    "- ..."
   ]
  }
 ],
 "metadata": {
  "kernelspec": {
   "display_name": "Python 3",
   "language": "python",
   "name": "python3"
  },
  "language_info": {
   "codemirror_mode": {
    "name": "ipython",
    "version": 3
   },
   "file_extension": ".py",
   "mimetype": "text/x-python",
   "name": "python",
   "nbconvert_exporter": "python",
   "pygments_lexer": "ipython3",
   "version": "3.7.7"
  }
 },
 "nbformat": 4,
 "nbformat_minor": 4
}
