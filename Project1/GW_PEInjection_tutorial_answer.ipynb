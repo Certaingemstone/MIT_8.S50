{
 "cells": [
  {
   "cell_type": "markdown",
   "metadata": {},
   "source": [
    "# Project: GW injection and Parameter estimation¶\n",
    "Author: Tri Nguyen\n",
    "\n",
    "In this tutorial, we will inject a gravitational-wave (GW) signal into LIGO data and perform parameter estimation on a redudced parameter space to extract the parameters of the signal. We will be utilizing the Bilby, which is a Python-based user-friendly Bayesian inference library for GW data analysis. For more information about Bilby, please visit: https://lscsoft.docs.ligo.org/bilby/ and https://arxiv.org/pdf/1811.02042.pdf. \n",
    "\n",
    "\n",
    "This notebook is based on the Bilby tutorial for GW injection and parameter estimation."
   ]
  },
  {
   "cell_type": "code",
   "execution_count": 1,
   "metadata": {},
   "outputs": [
    {
     "name": "stdout",
     "output_type": "stream",
     "text": [
      "Defaulting to user installation because normal site-packages is not writeable\n",
      "Requirement already satisfied: bilby in /Users/pharris/Library/Python/3.7/lib/python/site-packages (0.6.5)\n",
      "Requirement already satisfied: pandas in /Users/pharris/Library/Python/3.7/lib/python/site-packages (from bilby) (1.0.3)\n",
      "Requirement already satisfied: dynesty>=1.0.0 in /Users/pharris/Library/Python/3.7/lib/python/site-packages (from bilby) (1.0.1)\n",
      "Requirement already satisfied: scipy in /Users/pharris/Library/Python/3.7/lib/python/site-packages (from bilby) (1.4.1)\n",
      "Requirement already satisfied: matplotlib>=2.0 in /Users/pharris/Library/Python/3.7/lib/python/site-packages (from bilby) (3.2.0)\n",
      "Requirement already satisfied: corner in /Users/pharris/Library/Python/3.7/lib/python/site-packages (from bilby) (2.0.1)\n",
      "Requirement already satisfied: tqdm in /Users/pharris/Library/Python/3.7/lib/python/site-packages (from bilby) (4.43.0)\n",
      "Requirement already satisfied: future in /Users/pharris/Library/Python/3.7/lib/python/site-packages (from bilby) (0.18.2)\n",
      "Requirement already satisfied: emcee in /Users/pharris/Library/Python/3.7/lib/python/site-packages (from bilby) (2.2.1)\n",
      "Requirement already satisfied: numpy>=1.9 in /Users/pharris/Library/Python/3.7/lib/python/site-packages (from bilby) (1.18.2)\n",
      "Requirement already satisfied: dill in /Users/pharris/Library/Python/3.7/lib/python/site-packages (from bilby) (0.3.1.1)\n",
      "Requirement already satisfied: pytz>=2017.2 in /Users/pharris/Library/Python/3.7/lib/python/site-packages (from pandas->bilby) (2019.3)\n",
      "Requirement already satisfied: python-dateutil>=2.6.1 in /Users/pharris/Library/Python/3.7/lib/python/site-packages (from pandas->bilby) (2.8.1)\n",
      "Requirement already satisfied: six in /Library/Developer/CommandLineTools/Library/Frameworks/Python3.framework/Versions/3.7/lib/python3.7/site-packages (from dynesty>=1.0.0->bilby) (1.12.0)\n",
      "Requirement already satisfied: kiwisolver>=1.0.1 in /Users/pharris/Library/Python/3.7/lib/python/site-packages (from matplotlib>=2.0->bilby) (1.1.0)\n",
      "Requirement already satisfied: cycler>=0.10 in /Users/pharris/Library/Python/3.7/lib/python/site-packages (from matplotlib>=2.0->bilby) (0.10.0)\n",
      "Requirement already satisfied: pyparsing!=2.0.4,!=2.1.2,!=2.1.6,>=2.0.1 in /Users/pharris/Library/Python/3.7/lib/python/site-packages (from matplotlib>=2.0->bilby) (2.4.6)\n",
      "Requirement already satisfied: setuptools in /Users/pharris/Library/Python/3.7/lib/python/site-packages (from kiwisolver>=1.0.1->matplotlib>=2.0->bilby) (46.3.1)\n",
      "\u001b[33mWARNING: You are using pip version 20.0.2; however, version 20.3.3 is available.\n",
      "You should consider upgrading via the '/Library/Developer/CommandLineTools/usr/bin/python3 -m pip install --upgrade pip' command.\u001b[0m\n",
      "Defaulting to user installation because normal site-packages is not writeable\n",
      "Requirement already satisfied: gwpy in /Users/pharris/Library/Python/3.7/lib/python/site-packages (1.0.1)\n",
      "Requirement already satisfied: lalsuite in /Users/pharris/Library/Python/3.7/lib/python/site-packages (6.66)\n",
      "Requirement already satisfied: gwosc>=0.4.0 in /Users/pharris/Library/Python/3.7/lib/python/site-packages (from gwpy) (0.5.0)\n",
      "Requirement already satisfied: h5py>=1.3 in /Users/pharris/Library/Python/3.7/lib/python/site-packages (from gwpy) (2.10.0)\n",
      "Requirement already satisfied: tqdm>=4.10.0 in /Users/pharris/Library/Python/3.7/lib/python/site-packages (from gwpy) (4.43.0)\n",
      "Requirement already satisfied: python-dateutil in /Users/pharris/Library/Python/3.7/lib/python/site-packages (from gwpy) (2.8.1)\n",
      "Requirement already satisfied: ligotimegps>=1.2.1 in /Users/pharris/Library/Python/3.7/lib/python/site-packages (from gwpy) (2.0.1)\n",
      "Requirement already satisfied: matplotlib!=2.1.0,!=2.1.1,>=1.2.0 in /Users/pharris/Library/Python/3.7/lib/python/site-packages (from gwpy) (3.2.0)\n",
      "Requirement already satisfied: gwdatafind in /Users/pharris/Library/Python/3.7/lib/python/site-packages (from gwpy) (1.0.4)\n",
      "Requirement already satisfied: scipy>=0.12.1 in /Users/pharris/Library/Python/3.7/lib/python/site-packages (from gwpy) (1.4.1)\n",
      "Requirement already satisfied: astropy>=1.3.0; python_version >= \"3.5\" in /Users/pharris/Library/Python/3.7/lib/python/site-packages (from gwpy) (4.0)\n",
      "Requirement already satisfied: six>=1.5 in /Library/Developer/CommandLineTools/Library/Frameworks/Python3.framework/Versions/3.7/lib/python3.7/site-packages (from gwpy) (1.12.0)\n",
      "Requirement already satisfied: numpy>=1.7.1 in /Users/pharris/Library/Python/3.7/lib/python/site-packages (from gwpy) (1.18.2)\n",
      "Requirement already satisfied: ligo-segments>=1.0.0 in /Users/pharris/Library/Python/3.7/lib/python/site-packages (from gwpy) (1.2.0)\n",
      "Requirement already satisfied: dqsegdb2 in /Users/pharris/Library/Python/3.7/lib/python/site-packages (from gwpy) (1.0.1)\n",
      "Requirement already satisfied: lscsoft-glue in /Users/pharris/Library/Python/3.7/lib/python/site-packages (from lalsuite) (2.0.0)\n",
      "Requirement already satisfied: cycler>=0.10 in /Users/pharris/Library/Python/3.7/lib/python/site-packages (from matplotlib!=2.1.0,!=2.1.1,>=1.2.0->gwpy) (0.10.0)\n",
      "Requirement already satisfied: pyparsing!=2.0.4,!=2.1.2,!=2.1.6,>=2.0.1 in /Users/pharris/Library/Python/3.7/lib/python/site-packages (from matplotlib!=2.1.0,!=2.1.1,>=1.2.0->gwpy) (2.4.6)\n",
      "Requirement already satisfied: kiwisolver>=1.0.1 in /Users/pharris/Library/Python/3.7/lib/python/site-packages (from matplotlib!=2.1.0,!=2.1.1,>=1.2.0->gwpy) (1.1.0)\n",
      "Requirement already satisfied: pyOpenSSL in /Users/pharris/Library/Python/3.7/lib/python/site-packages (from gwdatafind->gwpy) (19.1.0)\n",
      "Requirement already satisfied: setuptools in /Users/pharris/Library/Python/3.7/lib/python/site-packages (from kiwisolver>=1.0.1->matplotlib!=2.1.0,!=2.1.1,>=1.2.0->gwpy) (46.3.1)\n",
      "Requirement already satisfied: cryptography>=2.8 in /Users/pharris/Library/Python/3.7/lib/python/site-packages (from pyOpenSSL->gwdatafind->gwpy) (2.8)\n",
      "Requirement already satisfied: cffi!=1.11.3,>=1.8 in /Users/pharris/Library/Python/3.7/lib/python/site-packages (from cryptography>=2.8->pyOpenSSL->gwdatafind->gwpy) (1.14.0)\n",
      "Requirement already satisfied: pycparser in /Users/pharris/Library/Python/3.7/lib/python/site-packages (from cffi!=1.11.3,>=1.8->cryptography>=2.8->pyOpenSSL->gwdatafind->gwpy) (2.20)\n",
      "\u001b[33mWARNING: You are using pip version 20.0.2; however, version 20.3.3 is available.\n",
      "You should consider upgrading via the '/Library/Developer/CommandLineTools/usr/bin/python3 -m pip install --upgrade pip' command.\u001b[0m\n"
     ]
    }
   ],
   "source": [
    "# Install Bilby and some of its dependency\n",
    "!pip install bilby\n",
    "!pip install gwpy lalsuite"
   ]
  },
  {
   "cell_type": "code",
   "execution_count": 2,
   "metadata": {},
   "outputs": [],
   "source": [
    "from __future__ import division, print_function\n",
    "\n",
    "import numpy as np\n",
    "import scipy.signal as sig\n",
    "import matplotlib.pyplot as plt\n",
    "\n",
    "import bilby\n",
    "from bilby.gw.source import lal_binary_black_hole\n",
    "from bilby.gw.conversion import convert_to_lal_binary_black_hole_parameters\n",
    "\n",
    "%matplotlib inline"
   ]
  },
  {
   "cell_type": "markdown",
   "metadata": {},
   "source": [
    "## Gravitational-wave injection\n",
    "### Example\n",
    "\n",
    "In the example, we will inject a binary black hole (BBH) into a Gaussian noise background."
   ]
  },
  {
   "cell_type": "code",
   "execution_count": 3,
   "metadata": {},
   "outputs": [],
   "source": [
    "# Set random seed for reproducibility\n",
    "np.random.seed(74656541)"
   ]
  },
  {
   "cell_type": "code",
   "execution_count": 4,
   "metadata": {},
   "outputs": [],
   "source": [
    "# We are going to inject a binary black hole waveform.  We first establish a\n",
    "# dictionary of parameters that includes all of the different waveform\n",
    "# parameters, including masses of the two black holes (mass_1, mass_2),\n",
    "# spins of both black holes (a, tilt, phi), etc.\n",
    "# make up some injection parameters and inject signal into data\n",
    "injection_parameters = dict(\n",
    "    mass_1=50, mass_2=50, a_1=0., a_2=0., tilt_1=0., tilt_2=0.,\n",
    "    phi_12=0., phi_jl=0., luminosity_distance=500, theta_jn=0., psi=0.,\n",
    "    phase=0.2, geocent_time=1243309096, ra=0., dec=0.)\n",
    "\n",
    "\n",
    "\n",
    "# First, we define the duration and sampling frequency of the data segment\n",
    "# that we will inject the GW signal into. For our BBH, a duration of 4 seconds \n",
    "# will be sufficient to capture the entire waveform.\n",
    "duration = 4.\n",
    "# We set the sampling frequency to 2048 Hz because the BBH waveform does not usually\n",
    "# extend pass 1024 Hz \n",
    "sampling_frequency = 2048."
   ]
  },
  {
   "cell_type": "code",
   "execution_count": 5,
   "metadata": {},
   "outputs": [],
   "source": [
    "# LIGO approximates GW waveforms by interpolating between GW templates in a template bank\n",
    "# which is generated from physical simulations (e.g. numerical relativity, post-Newtonian). \n",
    "# These waveform families are called **waveform approximant**. \n",
    "# For more information on these waveform approximants, please visit: \n",
    "\n",
    "# https://www.lsc-group.phys.uwm.edu/ligovirgo/cbcnote/Waveforms/Overview\n",
    "\n",
    "# In this example, we will use the waveform approximant `IMRPhenomPv2`. \n",
    "# This is a phenomenological model that approximates the GW waveforms \n",
    "# during the three stages of an inspiral (Inspiral, Merger, Ringdown). `IMRPhenomPv2` also uses \n",
    "# a single-spin frequency-dependent post-Newtonian rotation  to describe spin precession effects.\n",
    "\n",
    "# We define a WaveformGenerator object to generate any BBH waveform \n",
    "# given the appropriate parameters\n",
    "waveform_arguments = {\n",
    "    'waveform_approximant': 'IMRPhenomPv2',\n",
    "    'reference_frequency': 50.,  # most sensitive frequency\n",
    "    'minimum_frequency': 20.\n",
    "}\n",
    "waveform_generator = bilby.gw.WaveformGenerator(\n",
    "    duration=duration, sampling_frequency=sampling_frequency,\n",
    "    parameter_conversion=convert_to_lal_binary_black_hole_parameters,\n",
    "    frequency_domain_source_model=lal_binary_black_hole,\n",
    "    waveform_arguments=waveform_arguments)"
   ]
  },
  {
   "cell_type": "code",
   "execution_count": 6,
   "metadata": {},
   "outputs": [
    {
     "data": {
      "image/png": "[encoded data removed]",
      "text/plain": [
       "<Figure size 576x360 with 1 Axes>"
      ]
     },
     "metadata": {
      "needs_background": "light"
     },
     "output_type": "display_data"
    },
    {
     "data": {
      "image/png": "[encoded data removed]",
      "text/plain": [
       "<Figure size 576x360 with 1 Axes>"
      ]
     },
     "metadata": {
      "needs_background": "light"
     },
     "output_type": "display_data"
    }
   ],
   "source": [
    "# We'd like to see what kind of signal we will be generating\n",
    "# We examine the signal in the time domain\n",
    "polarizations_td = waveform_generator.time_domain_strain(injection_parameters)\n",
    "plus_td = np.roll(polarizations_td['plus'], int(sampling_frequency * 2))\n",
    "cross_td = np.roll(polarizations_td['cross'], int(sampling_frequency * 2))\n",
    "time = np.linspace(0., duration, len(plus_td))\n",
    "\n",
    "fig = plt.figure(figsize=(8, 5))\n",
    "\n",
    "plt.plot(time, plus_td, label='Plus')\n",
    "plt.plot(time, cross_td, label='Cross')\n",
    "plt.xlabel('Time [sec]')\n",
    "plt.ylabel('Strain')\n",
    "plt.xlim(1.8, 2.02)\n",
    "plt.legend()\n",
    "plt.show()\n",
    "\n",
    "# And their ASD\n",
    "NFFT = int(4 * sampling_frequency)\n",
    "freq, plus_psd = sig.welch(plus_td, fs=sampling_frequency, nperseg=NFFT)\n",
    "plus_asd = np.sqrt(plus_psd)\n",
    "\n",
    "freq, cross_psd = sig.welch(cross_td, fs=sampling_frequency, nperseg=NFFT)\n",
    "cross_asd = np.sqrt(cross_psd)\n",
    "\n",
    "fig = plt.figure(figsize=(8, 5))\n",
    "plt.loglog(freq, plus_asd, label='Plus')\n",
    "plt.loglog(freq, cross_asd, label='Cross')\n",
    "plt.xlim(10, 1024)\n",
    "plt.xlabel('Frequency [Hz]')\n",
    "plt.ylabel('ASD')\n",
    "plt.legend()\n",
    "plt.show()"
   ]
  },
  {
   "cell_type": "code",
   "execution_count": 7,
   "metadata": {},
   "outputs": [
    {
     "name": "stderr",
     "output_type": "stream",
     "text": [
      "/Users/pharris/Library/Python/3.7/lib/python/site-packages/bilby/gw/detector/psd.py:356: RuntimeWarning: invalid value encountered in multiply\n",
      "  frequency_domain_strain = self.__power_spectral_density_interpolated(frequencies) ** 0.5 * white_noise\n",
      "11:13 bilby INFO    : Injected signal in H1:\n",
      "11:13 bilby INFO    :   optimal SNR = 75.77\n",
      "11:13 bilby INFO    :   matched filter SNR = 74.32-0.67j\n",
      "11:13 bilby INFO    :   mass_1 = 50\n",
      "11:13 bilby INFO    :   mass_2 = 50\n",
      "11:13 bilby INFO    :   a_1 = 0.0\n",
      "11:13 bilby INFO    :   a_2 = 0.0\n",
      "11:13 bilby INFO    :   tilt_1 = 0.0\n",
      "11:13 bilby INFO    :   tilt_2 = 0.0\n",
      "11:13 bilby INFO    :   phi_12 = 0.0\n",
      "11:13 bilby INFO    :   phi_jl = 0.0\n",
      "11:13 bilby INFO    :   luminosity_distance = 500\n",
      "11:13 bilby INFO    :   theta_jn = 0.0\n",
      "11:13 bilby INFO    :   psi = 0.0\n",
      "11:13 bilby INFO    :   phase = 0.2\n",
      "11:13 bilby INFO    :   geocent_time = 1243309096\n",
      "11:13 bilby INFO    :   ra = 0.0\n",
      "11:13 bilby INFO    :   dec = 0.0\n",
      "11:13 bilby INFO    : Injected signal in L1:\n",
      "11:13 bilby INFO    :   optimal SNR = 82.50\n",
      "11:13 bilby INFO    :   matched filter SNR = 81.56-0.67j\n",
      "11:13 bilby INFO    :   mass_1 = 50\n",
      "11:13 bilby INFO    :   mass_2 = 50\n",
      "11:13 bilby INFO    :   a_1 = 0.0\n",
      "11:13 bilby INFO    :   a_2 = 0.0\n",
      "11:13 bilby INFO    :   tilt_1 = 0.0\n",
      "11:13 bilby INFO    :   tilt_2 = 0.0\n",
      "11:13 bilby INFO    :   phi_12 = 0.0\n",
      "11:13 bilby INFO    :   phi_jl = 0.0\n",
      "11:13 bilby INFO    :   luminosity_distance = 500\n",
      "11:13 bilby INFO    :   theta_jn = 0.0\n",
      "11:13 bilby INFO    :   psi = 0.0\n",
      "11:13 bilby INFO    :   phase = 0.2\n",
      "11:13 bilby INFO    :   geocent_time = 1243309096\n",
      "11:13 bilby INFO    :   ra = 0.0\n",
      "11:13 bilby INFO    :   dec = 0.0\n"
     ]
    }
   ],
   "source": [
    "# For this object, we will only use LIGO Hanford (H1) and LIGO Livingston (L1)\n",
    "# Because H1 and L1 have different antenna patterns (which is based on their \n",
    "# orientation and location of Earth), each will see a different GW waveform. \n",
    "# We set up Bilby Interferometer object with the GPS time around the geocenter time\n",
    "# of the GW signal. By default, each interferometer will have a Gaussian noise \n",
    "# background with the PSD being their design sensitivity.\n",
    "ifos = bilby.gw.detector.InterferometerList(['H1', 'L1'])\n",
    "ifos.set_strain_data_from_power_spectral_densities(\n",
    "    sampling_frequency=sampling_frequency, duration=duration,\n",
    "    start_time=injection_parameters['geocent_time'] - 3)\n",
    "\n",
    "# Inject GW signal into H1 and L1\n",
    "polarizations = ifos.inject_signal(waveform_generator=waveform_generator,\n",
    "                                   parameters=injection_parameters)"
   ]
  },
  {
   "cell_type": "code",
   "execution_count": 8,
   "metadata": {},
   "outputs": [
    {
     "data": {
      "image/png": "[encoded data removed]",
      "text/plain": [
       "<Figure size 864x360 with 2 Axes>"
      ]
     },
     "metadata": {
      "needs_background": "light"
     },
     "output_type": "display_data"
    }
   ],
   "source": [
    "# We would like to visualize what the injected GW strain looks like\n",
    "# First, we extract the H1 and L1 strain from the Inteferometer object\n",
    "H1_strain = ifos[0].time_domain_strain\n",
    "L1_strain = ifos[1].time_domain_strain\n",
    "\n",
    "# And calculate their PSD and ASD\n",
    "NFFT = int(sampling_frequency * 4)\n",
    "freq, H1_strain_psd = sig.welch(H1_strain, fs=sampling_frequency, nperseg=NFFT)\n",
    "H1_strain_asd = np.sqrt(H1_strain_psd)\n",
    "freq, L1_strain_psd = sig.welch(L1_strain, fs=sampling_frequency, nperseg=NFFT)\n",
    "L1_strain_asd = np.sqrt(L1_strain_psd)\n",
    "\n",
    "# We also like to extract the background PSD and ASD\n",
    "H1_bg_psd = ifos[0].power_spectral_density.psd_array\n",
    "H1_bg_asd = np.sqrt(H1_bg_psd)\n",
    "L1_bg_psd = ifos[1].power_spectral_density.psd_array\n",
    "L1_bg_asd = np.sqrt(L1_bg_psd)\n",
    "freq_bg = ifos[0].power_spectral_density.frequency_array\n",
    "\n",
    "# We plot the strain ASD on top of the background ASD\n",
    "# Because we inject a loud signal (H1 optimal SNR = 73.24, L1 optimal SNR = 79.75)\n",
    "# we should be able to see the signal\n",
    "fig = plt.figure(figsize=(12, 5))\n",
    "\n",
    "# Plot H1 strain and background ASD\n",
    "ax1 = plt.subplot(121)\n",
    "ax1.loglog(freq, H1_strain_asd, label='Strain ASD')\n",
    "ax1.loglog(freq_bg, H1_bg_asd, label='Background ASD')\n",
    "ax1.set_title('H1')\n",
    "ax1.set_xlim(20, 1024)\n",
    "ax1.set_ylim(1e-26, None)\n",
    "ax1.set_xlabel('Frequency')\n",
    "ax1.set_ylabel('ASD')\n",
    "ax1.legend()\n",
    "\n",
    "# Plot L1 strain and background ASD\n",
    "ax2 = plt.subplot(122)\n",
    "ax2.loglog(freq, L1_strain_asd, label='Strain ASD')\n",
    "ax2.loglog(freq_bg, L1_bg_asd, label='Background ASD')\n",
    "ax2.set_title('L1')\n",
    "ax2.set_xlim(20, 1024)\n",
    "ax2.set_ylim(1e-26, None)\n",
    "ax2.set_xlabel('Frequency')\n",
    "ax2.set_ylabel('ASD')\n",
    "ax2.legend()\n",
    "\n",
    "plt.show()"
   ]
  },
  {
   "cell_type": "markdown",
   "metadata": {},
   "source": [
    "### Student work\n",
    "\n",
    "Now it is your time to shine. Inject a BBH with the following parameters into a Gaussian noise background:\n",
    "\n",
    "- Masses $M_1$ and $M_2$: 36 $M_\\odot$ and 29 $M_\\odot$\n",
    "- Dimensionless spin magnitudes $a_1$ and $a_2$: 0.4 and 0.3\n",
    "- Difference between the azimuthal angles of the individual spin vector projections onto the orbital plane $\\phi_{12}$: 97.4 $\\deg$\n",
    "- Difference between total and orbital angular momentum azimuthal angles $\\phi_{jl}$: 17.2 $\\deg$\n",
    "- Tilt angle between their spins and the orbital angular momentum $\\theta_1$ and $\\theta_2$: 28.6 $\\deg$ and 57.3 $\\deg$\n",
    "- Luminosity distance $D_L$: 2000 Mpc\n",
    "- Inclination angle: $\\theta_{jn}$: 22.9 $\\deg$\n",
    "- Polarisation angle $\\psi$: 152.3 $\\deg$\n",
    "- Phase at coalescence $\\phi_c$: 74.5 $\\deg$\n",
    "- Sky position RA and DEC: 78.8 $\\deg$ and -69.4$\\deg$\n",
    "- Geocentric time: GPS 1126259642.413\n",
    "\n",
    "You should use the same signal duration, sampling frequency, and waveform approximant as above. You do **not** have to reproduce the plots."
   ]
  },
  {
   "cell_type": "code",
   "execution_count": 9,
   "metadata": {},
   "outputs": [],
   "source": [
    "%reset -f"
   ]
  },
  {
   "cell_type": "code",
   "execution_count": 10,
   "metadata": {},
   "outputs": [],
   "source": [
    "from __future__ import division, print_function\n",
    "\n",
    "import numpy as np\n",
    "import scipy.signal as sig\n",
    "import matplotlib.pyplot as plt\n",
    "\n",
    "import bilby\n",
    "from bilby.gw.source import lal_binary_black_hole\n",
    "from bilby.gw.conversion import convert_to_lal_binary_black_hole_parameters\n",
    "\n",
    "%matplotlib inline"
   ]
  },
  {
   "cell_type": "code",
   "execution_count": 11,
   "metadata": {},
   "outputs": [
    {
     "name": "stderr",
     "output_type": "stream",
     "text": [
      "/Users/pharris/Library/Python/3.7/lib/python/site-packages/bilby/gw/detector/psd.py:356: RuntimeWarning: invalid value encountered in multiply\n",
      "  frequency_domain_strain = self.__power_spectral_density_interpolated(frequencies) ** 0.5 * white_noise\n",
      "11:13 bilby INFO    : Injected signal in H1:\n",
      "11:13 bilby INFO    :   optimal SNR = 12.03\n",
      "11:13 bilby INFO    :   matched filter SNR = 12.20+0.60j\n",
      "11:13 bilby INFO    :   mass_1 = 36.0\n",
      "11:13 bilby INFO    :   mass_2 = 29.0\n",
      "11:13 bilby INFO    :   a_1 = 0.4\n",
      "11:13 bilby INFO    :   a_2 = 0.3\n",
      "11:13 bilby INFO    :   tilt_1 = 0.5\n",
      "11:13 bilby INFO    :   tilt_2 = 1.0\n",
      "11:13 bilby INFO    :   phi_12 = 1.7\n",
      "11:13 bilby INFO    :   phi_jl = 0.3\n",
      "11:13 bilby INFO    :   luminosity_distance = 2000.0\n",
      "11:13 bilby INFO    :   theta_jn = 0.4\n",
      "11:13 bilby INFO    :   psi = 2.659\n",
      "11:13 bilby INFO    :   phase = 1.3\n",
      "11:13 bilby INFO    :   geocent_time = 1126259642.413\n",
      "11:13 bilby INFO    :   ra = 1.375\n",
      "11:13 bilby INFO    :   dec = -1.2108\n",
      "11:13 bilby INFO    : Injected signal in L1:\n",
      "11:13 bilby INFO    :   optimal SNR = 9.74\n",
      "11:13 bilby INFO    :   matched filter SNR = 9.97-2.13j\n",
      "11:13 bilby INFO    :   mass_1 = 36.0\n",
      "11:13 bilby INFO    :   mass_2 = 29.0\n",
      "11:13 bilby INFO    :   a_1 = 0.4\n",
      "11:13 bilby INFO    :   a_2 = 0.3\n",
      "11:13 bilby INFO    :   tilt_1 = 0.5\n",
      "11:13 bilby INFO    :   tilt_2 = 1.0\n",
      "11:13 bilby INFO    :   phi_12 = 1.7\n",
      "11:13 bilby INFO    :   phi_jl = 0.3\n",
      "11:13 bilby INFO    :   luminosity_distance = 2000.0\n",
      "11:13 bilby INFO    :   theta_jn = 0.4\n",
      "11:13 bilby INFO    :   psi = 2.659\n",
      "11:13 bilby INFO    :   phase = 1.3\n",
      "11:13 bilby INFO    :   geocent_time = 1126259642.413\n",
      "11:13 bilby INFO    :   ra = 1.375\n",
      "11:13 bilby INFO    :   dec = -1.2108\n"
     ]
    }
   ],
   "source": [
    "# Set random seed for reproducibility\n",
    "np.random.seed(74656541)\n",
    "\n",
    "### -------------------START-CODE-------------------- ###\n",
    "# Set up injection parameters and other time series parameters\n",
    "injection_parameters = dict(\n",
    "    mass_1=36., mass_2=29., a_1=0.4, a_2=0.3, tilt_1=0.5, tilt_2=1.0,\n",
    "    phi_12=1.7, phi_jl=0.3, luminosity_distance=2000., theta_jn=0.4, psi=2.659,\n",
    "    phase=1.3, geocent_time=1126259642.413, ra=1.375, dec=-1.2108)\n",
    "duration = 4.\n",
    "sampling_frequency = 2048.\n",
    "\n",
    "# Set up waveform generator\n",
    "waveform_arguments = {\n",
    "    'waveform_approximant': 'IMRPhenomPv2',\n",
    "    'reference_frequency': 50.,\n",
    "    'minimum_frequency': 20.\n",
    "}\n",
    "waveform_generator = bilby.gw.WaveformGenerator(\n",
    "    duration=duration, sampling_frequency=sampling_frequency,\n",
    "    parameter_conversion=convert_to_lal_binary_black_hole_parameters,\n",
    "    frequency_domain_source_model=lal_binary_black_hole,\n",
    "    waveform_arguments=waveform_arguments)\n",
    "\n",
    "# Set up interferometer\n",
    "ifos = bilby.gw.detector.InterferometerList(['H1', 'L1'])\n",
    "ifos.set_strain_data_from_power_spectral_densities(\n",
    "    sampling_frequency=sampling_frequency, duration=duration,\n",
    "    start_time=injection_parameters['geocent_time'] - 3)\n",
    "polarizations = ifos.inject_signal(waveform_generator=waveform_generator,\n",
    "                                   parameters=injection_parameters)\n",
    "### -------------------END-CODE-------------------- ###"
   ]
  },
  {
   "cell_type": "markdown",
   "metadata": {},
   "source": [
    "## Parameter estimation\n",
    "\n",
    "We are now ready to extract the parameters of this GW signal from the Gaussian noise background. Our goal is to find the posterior distribution. However, because the posterior distribution is often intractable, LIGO uses posterior sampling algorithm (such as MCMC and Nested Sampling) to evaluate the posterior distribution. We will cover MCMC later in the course.\n",
    "\n",
    "\n",
    "To begin sampling the posterior distribution, we need to define the prior distribution and likelihood distribution (Remember Bayes' rule?). We will first set up the prior distribution. Bilby uses a dictionary class structure to store the prior of each GW parameters. Each prior distribution can be defined with a Bilby class object. For more information about prior dictionary in Bilby, please visit: https://lscsoft.docs.ligo.org/bilby/prior.html.\n",
    "\n",
    "Below is an example prior used to extract the parameters of the first BBH GW150914."
   ]
  },
  {
   "cell_type": "code",
   "execution_count": 12,
   "metadata": {},
   "outputs": [
    {
     "data": {
      "text/plain": [
       "{'mass_ratio': Uniform(minimum=0.125, maximum=1, name='mass_ratio', latex_label='$q$', unit=None, boundary='reflective'),\n",
       " 'chirp_mass': Uniform(minimum=25, maximum=31, name='chirp_mass', latex_label='$\\\\mathcal{M}$', unit='$M_{\\\\odot}$', boundary='reflective'),\n",
       " 'mass_1': Constraint(minimum=10, maximum=80, name='mass_1', latex_label='$m_1$', unit=None),\n",
       " 'mass_2': Constraint(minimum=10, maximum=80, name='mass_2', latex_label='$m_2$', unit=None),\n",
       " 'a_1': Uniform(minimum=0, maximum=0.99, name='a_1', latex_label='$a_1$', unit=None, boundary='reflective'),\n",
       " 'a_2': Uniform(minimum=0, maximum=0.99, name='a_2', latex_label='$a_2$', unit=None, boundary='reflective'),\n",
       " 'tilt_1': Sine(name='tilt_1', latex_label='$\\\\theta_1$', unit=None, minimum=0, maximum=3.141592653589793, boundary='reflective'),\n",
       " 'tilt_2': Sine(name='tilt_2', latex_label='$\\\\theta_2$', unit=None, minimum=0, maximum=3.141592653589793, boundary='reflective'),\n",
       " 'phi_12': Uniform(minimum=0, maximum=6.283185307179586, name='phi_12', latex_label='$\\\\Delta\\\\phi$', unit=None, boundary='periodic'),\n",
       " 'phi_jl': Uniform(minimum=0, maximum=6.283185307179586, name='phi_jl', latex_label='$\\\\phi_{JL}$', unit=None, boundary='periodic'),\n",
       " 'luminosity_distance': PowerLaw(alpha=2, minimum=50, maximum=2000, name='luminosity_distance', latex_label='$d_L$', unit='Mpc', boundary=None),\n",
       " 'dec': Cosine(name='dec', latex_label='$\\\\mathrm{DEC}$', unit=None, minimum=-1.5707963267948966, maximum=1.5707963267948966, boundary='reflective'),\n",
       " 'ra': Uniform(minimum=0, maximum=6.283185307179586, name='ra', latex_label='$\\\\mathrm{RA}$', unit=None, boundary='periodic'),\n",
       " 'theta_jn': Sine(name='theta_jn', latex_label='$\\\\theta_{JN}$', unit=None, minimum=0, maximum=3.141592653589793, boundary='reflective'),\n",
       " 'psi': Uniform(minimum=0, maximum=3.141592653589793, name='psi', latex_label='$\\\\psi$', unit=None, boundary='periodic'),\n",
       " 'phase': Uniform(minimum=0, maximum=6.283185307179586, name='phase', latex_label='$\\\\phi$', unit=None, boundary='periodic')}"
      ]
     },
     "execution_count": 12,
     "metadata": {},
     "output_type": "execute_result"
    }
   ],
   "source": [
    "example_priors = bilby.gw.prior.BBHPriorDict(filename='GW150914.prior')\n",
    "example_priors"
   ]
  },
  {
   "cell_type": "markdown",
   "metadata": {},
   "source": [
    "Now, you will create your own prior dictionary. By default, LIGO samples all 15 GW parameters (Can you name them all?). However, because this can take up to several days, we will instead work with a 2-dimensional space. Specifically, you will only sample the chirp mass $M_c$ and mass ratio $q$ of the BBH (see note). Feel free to play around with different type of priors.\n",
    "\n",
    "You might find these Bilby classes useful:\n",
    "- `bilby.prior.Uniform`\n",
    "- `bilby.prior.Gaussian`\n",
    "- `bilby.prior.DeltaFunction`\n",
    "- ...\n",
    "\n",
    "NOTE 1: We usually sample the chirp mass and mass ratio instead of the component masses $M_{1,2}$ because they tend to help the sampler converge faster and more easily. \n",
    "\n",
    "NOTE 2: You will have to define priors for the parameters that you are **not** sampling (e.g. $a_{1,2}$, $D_L$, etc.). If you don't, Bilby will use their default prior, and you will spend **a lot** of time sampling. Assume that we already know the values for these parameters, what kind of distribution should their priors be?"
   ]
  },
  {
   "cell_type": "code",
   "execution_count": 13,
   "metadata": {},
   "outputs": [
    {
     "data": {
      "text/plain": [
       "{'mass_ratio': Uniform(minimum=0.7, maximum=1.0, name='mass_ratio', latex_label='$q$', unit=None, boundary=None),\n",
       " 'chirp_mass': Uniform(minimum=20, maximum=40, name='chirp_mass', latex_label='$\\\\mathcal{M}$', unit=None, boundary=None),\n",
       " 'a_1': DeltaFunction(peak=0.4, name='a_1', latex_label='$a_1$', unit=None),\n",
       " 'a_2': DeltaFunction(peak=0.3, name='a_2', latex_label='$a_2$', unit=None),\n",
       " 'tilt_1': DeltaFunction(peak=0.5, name='tilt_1', latex_label='$\\\\theta_1$', unit=None),\n",
       " 'tilt_2': DeltaFunction(peak=1.0, name='tilt_2', latex_label='$\\\\theta_2$', unit=None),\n",
       " 'phi_12': DeltaFunction(peak=1.7, name='phi_12', latex_label='$\\\\Delta\\\\phi$', unit=None),\n",
       " 'phi_jl': DeltaFunction(peak=0.3, name='phi_jl', latex_label='$\\\\phi_{JL}$', unit=None),\n",
       " 'theta_jn': DeltaFunction(peak=0.4, name='theta_jn', latex_label='$\\\\theta_{JN}$', unit=None),\n",
       " 'psi': DeltaFunction(peak=2.659, name='psi', latex_label='$\\\\psi$', unit=None),\n",
       " 'phase': DeltaFunction(peak=1.3, name='phase', latex_label='$\\\\phi$', unit=None),\n",
       " 'luminosity_distance': DeltaFunction(peak=2000.0, name='luminosity_distance', latex_label='$d_L$', unit=None),\n",
       " 'geocent_time': DeltaFunction(peak=1126259642.413, name='geocent_time', latex_label='$t_c$', unit=None),\n",
       " 'ra': DeltaFunction(peak=1.375, name='ra', latex_label='$\\\\mathrm{RA}$', unit=None),\n",
       " 'dec': DeltaFunction(peak=-1.2108, name='dec', latex_label='$\\\\mathrm{DEC}$', unit=None)}"
      ]
     },
     "execution_count": 13,
     "metadata": {},
     "output_type": "execute_result"
    }
   ],
   "source": [
    "priors = {}\n",
    "\n",
    "### -------------------START-CODE-------------------- ###\n",
    "priors['mass_ratio'] = bilby.prior.Uniform(0.7, 1., name='mass_ratio')\n",
    "priors['chirp_mass'] = bilby.prior.Uniform(20, 40, name='chirp_mass')\n",
    "priors['a_1'] = bilby.prior.DeltaFunction(0.4, name='a_1')\n",
    "priors['a_2'] = bilby.prior.DeltaFunction(0.3, name='a_2')\n",
    "priors['tilt_1'] = bilby.prior.DeltaFunction(0.5, name='tilt_1')\n",
    "priors['tilt_2'] = bilby.prior.DeltaFunction(1.0, name='tilt_2')\n",
    "priors['phi_12'] = bilby.prior.DeltaFunction(1.7, name='phi_12')\n",
    "priors['phi_jl'] = bilby.prior.DeltaFunction(0.3, name='phi_jl')\n",
    "priors['theta_jn'] = bilby.prior.DeltaFunction(0.4, name='theta_jn')\n",
    "priors['psi'] = bilby.prior.DeltaFunction(2.659, name='psi')\n",
    "priors['phase'] = bilby.prior.DeltaFunction(1.3, name='phase')\n",
    "priors['luminosity_distance'] = bilby.prior.DeltaFunction(2000., name='luminosity_distance')\n",
    "priors['geocent_time'] = bilby.prior.DeltaFunction(1126259642.413, name='geocent_time')\n",
    "priors['ra'] = bilby.prior.DeltaFunction(1.375, name='ra')\n",
    "priors['dec'] = bilby.prior.DeltaFunction(-1.2108, name='dec')\n",
    "### -------------------END-CODE-------------------- ###\n",
    "\n",
    "priors"
   ]
  },
  {
   "cell_type": "markdown",
   "metadata": {},
   "source": [
    "Now, we will set up a Gaussian noise likelihood function. Writing the likelihood can be a bit complicate, so we will use `bilby.gw.GravitationalWaveTransient` function from Bilby. However, it is important that you understand where this function , so we'll ask you to write its equation down.  \n",
    "\n",
    "You can find your answer in this paper: https://arxiv.org/pdf/1809.02293.pdf (Hint: check the appendix)"
   ]
  },
  {
   "cell_type": "markdown",
   "metadata": {},
   "source": [
    "#### Answer:\n",
    "Remember to explain all your variables.\n",
    "\\begin{equation}\n",
    "    \\mathcal{L(d|\\theta)} = \n",
    "\\end{equation}\n",
    "where $d$ is the GW strain and $\\theta$ is a set of GW parameters."
   ]
  },
  {
   "cell_type": "code",
   "execution_count": 14,
   "metadata": {},
   "outputs": [
    {
     "name": "stderr",
     "output_type": "stream",
     "text": [
      "11:14 bilby WARNING : The waveform_generator start_time is not equal to that of the provided interferometers. Overwriting the waveform_generator.\n"
     ]
    }
   ],
   "source": [
    "# Initialise the likelihood by passing in the interferometer data (ifos) and\n",
    "# the waveform generator\n",
    "likelihood = bilby.gw.GravitationalWaveTransient(\n",
    "    interferometers=ifos, waveform_generator=waveform_generator)"
   ]
  },
  {
   "cell_type": "markdown",
   "metadata": {},
   "source": [
    "Once we define the prior and likelihood distribution, we will use Bilby to sample the posterior distribution.\n",
    "\n",
    "For this example, we will use the `dynesty` sampler, which Dynamic Nested Sampling package for estimating Bayesian posteriors and evidences. For more information about `dynesty`, please visit: https://dynesty.readthedocs.io/en/latest/."
   ]
  },
  {
   "cell_type": "code",
   "execution_count": 15,
   "metadata": {},
   "outputs": [
    {
     "name": "stderr",
     "output_type": "stream",
     "text": [
      "11:14 bilby INFO    : Running for label '2_parameters', output will be saved to 'GW_PEInjection_result'\n",
      "11:14 bilby INFO    : Using LAL version Branch: None;Tag: lalsuite-v6.66;Id: 04a60e3ac9b6ecb285cf96d1137c6a62a3d5cfde;;Builder: Unknown User <>;Repository status: CLEAN: All modifications committed\n",
      "11:14 bilby INFO    : Search parameters:\n",
      "11:14 bilby INFO    :   mass_ratio = Uniform(minimum=0.7, maximum=1.0, name='mass_ratio', latex_label='$q$', unit=None, boundary=None)\n",
      "11:14 bilby INFO    :   chirp_mass = Uniform(minimum=20, maximum=40, name='chirp_mass', latex_label='$\\\\mathcal{M}$', unit=None, boundary=None)\n",
      "11:14 bilby INFO    :   a_1 = 0.4\n",
      "11:14 bilby INFO    :   a_2 = 0.3\n",
      "11:14 bilby INFO    :   tilt_1 = 0.5\n",
      "11:14 bilby INFO    :   tilt_2 = 1.0\n",
      "11:14 bilby INFO    :   phi_12 = 1.7\n",
      "11:14 bilby INFO    :   phi_jl = 0.3\n",
      "11:14 bilby INFO    :   theta_jn = 0.4\n",
      "11:14 bilby INFO    :   psi = 2.659\n",
      "11:14 bilby INFO    :   phase = 1.3\n",
      "11:14 bilby INFO    :   luminosity_distance = 2000.0\n",
      "11:14 bilby INFO    :   geocent_time = 1126259642.413\n",
      "11:14 bilby INFO    :   ra = 1.375\n",
      "11:14 bilby INFO    :   dec = -1.2108\n",
      "11:14 bilby INFO    : Single likelihood evaluation took 2.551e-03 s\n"
     ]
    },
    {
     "name": "stdout",
     "output_type": "stream",
     "text": [
      "\r",
      "0it [00:00, ?it/s]"
     ]
    },
    {
     "name": "stderr",
     "output_type": "stream",
     "text": [
      "11:14 bilby INFO    : Using sampler Dynesty with kwargs {'bound': 'multi', 'sample': 'rwalk', 'verbose': True, 'periodic': None, 'reflective': None, 'check_point_delta_t': 600, 'nlive': 1000, 'first_update': None, 'walks': 100, 'npdim': None, 'rstate': None, 'queue_size': None, 'pool': None, 'use_pool': None, 'live_points': None, 'logl_args': None, 'logl_kwargs': None, 'ptform_args': None, 'ptform_kwargs': None, 'enlarge': 1.5, 'bootstrap': None, 'vol_dec': 0.5, 'vol_check': 8.0, 'facc': 0.2, 'slices': 5, 'update_interval': 600, 'print_func': <bound method Dynesty._print_func of <bilby.core.sampler.dynesty.Dynesty object at 0x12cda3810>>, 'dlogz': 0.1, 'maxiter': None, 'maxcall': None, 'logl_max': inf, 'add_live': True, 'print_progress': True, 'save_bounds': False, 'n_effective': None, 'maxmcmc': 5000, 'nact': 5}\n",
      "11:14 bilby INFO    : Checkpoint every n_check_point = 200000\n",
      "11:14 bilby INFO    : Using dynesty version 1.0.1\n",
      "11:14 bilby INFO    : Using the bilby-implemented rwalk sample method with ACT estimated walks\n"
     ]
    },
    {
     "name": "stdout",
     "output_type": "stream",
     "text": [
      "7264it [14:43,  4.19it/s, bound:594 nc:101 ncall:401039 eff:1.8% logz-ratio=115.81+/-0.11 dlogz:1.577>0.10] "
     ]
    },
    {
     "name": "stderr",
     "output_type": "stream",
     "text": [
      "11:29 bilby INFO    : Writing checkpoint file GW_PEInjection_result/2_parameters_resume.pickle\n"
     ]
    },
    {
     "name": "stdout",
     "output_type": "stream",
     "text": [
      "\n",
      "9773it [24:12,  4.44it/s, bound:1013 nc:101 ncall:654449 eff:1.5% logz-ratio=116.90+/-0.11 dlogz:0.100>0.10]"
     ]
    },
    {
     "name": "stderr",
     "output_type": "stream",
     "text": [
      "11:38 bilby INFO    : Writing checkpoint file GW_PEInjection_result/2_parameters_resume.pickle\n"
     ]
    },
    {
     "name": "stdout",
     "output_type": "stream",
     "text": [
      "\n",
      "9773it [24:13,  6.72it/s, bound:1013 nc:1 ncall:654449 eff:1.6% logz-ratio=117.00+/-0.11 dlogz:0.000>0.10]  \n",
      "\n"
     ]
    },
    {
     "name": "stderr",
     "output_type": "stream",
     "text": [
      "11:38 bilby INFO    : Sampling time: 0:24:09.819802\n",
      "11:38 bilby INFO    : Summary of results:\n",
      "nsamples: 10773\n",
      "ln_noise_evidence: -8228.297\n",
      "ln_evidence: -8111.298 +/-  0.113\n",
      "ln_bayes_factor: 116.999 +/-  0.113\n",
      "\n"
     ]
    }
   ],
   "source": [
    "outdir = 'GW_PEInjection_result'\n",
    "label = '2_parameters'\n",
    "result = bilby.run_sampler(\n",
    "    likelihood=likelihood, priors=priors, sampler='dynesty', npoints=1000, \n",
    "    resume=True, outdir=outdir, label=label)"
   ]
  },
  {
   "cell_type": "markdown",
   "metadata": {},
   "source": [
    "Last but not least, let's show your sampling result by making a beautiful plot. The most common way to show a multi-dimensional posterior distribution is to use a corner plot. Plotting a corner plot manually can be tricky, so we strongly recommend you to use the `corner` package (https://corner.readthedocs.io/en/latest/). However, feel free to use any plotting tool you are accustomed to.\n",
    "\n",
    "In this exercise, please plot the corner plot of the two component masses $M_1$ and $M_2$ of the BBH. Note that these are **not** the same parameters you have been sampling (which are chirp mass and mass ratio), so you will to convert your samples. You might find the chirp mass $M_c$ and mass ratio $q$ expressions below useful:\n",
    "\n",
    "\\begin{equation}\n",
    "M_c = \\frac{(M_1 M_2)^{3/5}}{(M_1 + M_2)^{1/5}}\\; \\text{and} \\; q=\\frac{M_2}{M_1}\n",
    "\\end{equation}\n",
    "\n",
    "What are the final values of the component masses $M_1$, $M_2$ of the BBH? Please include error bars and any neccessary statistics. How are these values compared to the true injection values?"
   ]
  },
  {
   "cell_type": "code",
   "execution_count": 16,
   "metadata": {},
   "outputs": [
    {
     "ename": "ValueError",
     "evalue": "Provided figure has 0 axes, but data has dimensions K=2",
     "output_type": "error",
     "traceback": [
      "\u001b[0;31m---------------------------------------------------------------------------\u001b[0m",
      "\u001b[0;31mValueError\u001b[0m                                Traceback (most recent call last)",
      "\u001b[0;32m~/Library/Python/3.7/lib/python/site-packages/corner/corner.py\u001b[0m in \u001b[0;36mcorner\u001b[0;34m(xs, bins, range, weights, color, smooth, smooth1d, labels, label_kwargs, show_titles, title_fmt, title_kwargs, truths, truth_color, scale_hist, quantiles, verbose, fig, max_n_ticks, top_ticks, use_math_text, hist_kwargs, **hist2d_kwargs)\u001b[0m\n\u001b[1;32m    209\u001b[0m         \u001b[0;32mtry\u001b[0m\u001b[0;34m:\u001b[0m\u001b[0;34m\u001b[0m\u001b[0;34m\u001b[0m\u001b[0m\n\u001b[0;32m--> 210\u001b[0;31m             \u001b[0maxes\u001b[0m \u001b[0;34m=\u001b[0m \u001b[0mnp\u001b[0m\u001b[0;34m.\u001b[0m\u001b[0marray\u001b[0m\u001b[0;34m(\u001b[0m\u001b[0mfig\u001b[0m\u001b[0;34m.\u001b[0m\u001b[0maxes\u001b[0m\u001b[0;34m)\u001b[0m\u001b[0;34m.\u001b[0m\u001b[0mreshape\u001b[0m\u001b[0;34m(\u001b[0m\u001b[0;34m(\u001b[0m\u001b[0mK\u001b[0m\u001b[0;34m,\u001b[0m \u001b[0mK\u001b[0m\u001b[0;34m)\u001b[0m\u001b[0;34m)\u001b[0m\u001b[0;34m\u001b[0m\u001b[0;34m\u001b[0m\u001b[0m\n\u001b[0m\u001b[1;32m    211\u001b[0m         \u001b[0;32mexcept\u001b[0m\u001b[0;34m:\u001b[0m\u001b[0;34m\u001b[0m\u001b[0;34m\u001b[0m\u001b[0m\n",
      "\u001b[0;31mValueError\u001b[0m: cannot reshape array of size 0 into shape (2,2)",
      "\nDuring handling of the above exception, another exception occurred:\n",
      "\u001b[0;31mValueError\u001b[0m                                Traceback (most recent call last)",
      "\u001b[0;32m<ipython-input-16-de663dc3dc5e>\u001b[0m in \u001b[0;36m<module>\u001b[0;34m\u001b[0m\n\u001b[1;32m     25\u001b[0m     \u001b[0msamples\u001b[0m\u001b[0;34m,\u001b[0m \u001b[0mtruths\u001b[0m\u001b[0;34m=\u001b[0m\u001b[0mtruths\u001b[0m\u001b[0;34m,\u001b[0m \u001b[0mlabels\u001b[0m\u001b[0;34m=\u001b[0m\u001b[0;34m(\u001b[0m\u001b[0;34mr'$M_1$'\u001b[0m\u001b[0;34m,\u001b[0m \u001b[0;34mr'$M_2$'\u001b[0m\u001b[0;34m)\u001b[0m\u001b[0;34m,\u001b[0m\u001b[0;34m\u001b[0m\u001b[0;34m\u001b[0m\u001b[0m\n\u001b[1;32m     26\u001b[0m     \u001b[0mquantiles\u001b[0m\u001b[0;34m=\u001b[0m\u001b[0;34m(\u001b[0m\u001b[0;36m0.16\u001b[0m\u001b[0;34m,\u001b[0m \u001b[0;36m0.84\u001b[0m\u001b[0;34m)\u001b[0m\u001b[0;34m,\u001b[0m \u001b[0mlevels\u001b[0m\u001b[0;34m=\u001b[0m\u001b[0;34m(\u001b[0m\u001b[0;36m0.9\u001b[0m\u001b[0;34m,\u001b[0m \u001b[0;34m)\u001b[0m\u001b[0;34m,\u001b[0m \u001b[0mbins\u001b[0m\u001b[0;34m=\u001b[0m\u001b[0;36m20\u001b[0m\u001b[0;34m,\u001b[0m \u001b[0mfig\u001b[0m\u001b[0;34m=\u001b[0m\u001b[0mfig\u001b[0m\u001b[0;34m,\u001b[0m\u001b[0;34m\u001b[0m\u001b[0;34m\u001b[0m\u001b[0m\n\u001b[0;32m---> 27\u001b[0;31m     color='k', truth_color='r', show_titles=True, title_kwargs={\"fontsize\": 12})\n\u001b[0m\u001b[1;32m     28\u001b[0m \u001b[0;34m\u001b[0m\u001b[0m\n\u001b[1;32m     29\u001b[0m \u001b[0;31m### -------------------END-CODE-------------------- ###\u001b[0m\u001b[0;34m\u001b[0m\u001b[0;34m\u001b[0m\u001b[0;34m\u001b[0m\u001b[0m\n",
      "\u001b[0;32m~/Library/Python/3.7/lib/python/site-packages/corner/corner.py\u001b[0m in \u001b[0;36mcorner\u001b[0;34m(xs, bins, range, weights, color, smooth, smooth1d, labels, label_kwargs, show_titles, title_fmt, title_kwargs, truths, truth_color, scale_hist, quantiles, verbose, fig, max_n_ticks, top_ticks, use_math_text, hist_kwargs, **hist2d_kwargs)\u001b[0m\n\u001b[1;32m    211\u001b[0m         \u001b[0;32mexcept\u001b[0m\u001b[0;34m:\u001b[0m\u001b[0;34m\u001b[0m\u001b[0;34m\u001b[0m\u001b[0m\n\u001b[1;32m    212\u001b[0m             raise ValueError(\"Provided figure has {0} axes, but data has \"\n\u001b[0;32m--> 213\u001b[0;31m                              \"dimensions K={1}\".format(len(fig.axes), K))\n\u001b[0m\u001b[1;32m    214\u001b[0m \u001b[0;34m\u001b[0m\u001b[0m\n\u001b[1;32m    215\u001b[0m     \u001b[0;31m# Format the figure.\u001b[0m\u001b[0;34m\u001b[0m\u001b[0;34m\u001b[0m\u001b[0;34m\u001b[0m\u001b[0m\n",
      "\u001b[0;31mValueError\u001b[0m: Provided figure has 0 axes, but data has dimensions K=2"
     ]
    },
    {
     "data": {
      "text/plain": [
       "<Figure size 576x576 with 0 Axes>"
      ]
     },
     "metadata": {},
     "output_type": "display_data"
    }
   ],
   "source": [
    "# First, we want to extract the posterior samples from bilby.result\n",
    "samples = result.posterior[['chirp_mass', 'mass_ratio']].values\n",
    "\n",
    "### -------------------START-CODE-------------------- ###\n",
    "\n",
    "import corner\n",
    "\n",
    "# Calculate mass 1 and mass 2 from chirp mass and mass ratio\n",
    "chirp_mass = samples[:, 0]\n",
    "mass_ratio = samples[:, 1]\n",
    "total_mass  = chirp_mass * (1 + mass_ratio) ** 1.2 / mass_ratio ** 0.6\n",
    "mass_1= total_mass / (1 + mass_ratio)\n",
    "mass_2= total_mass - mass_1\n",
    "\n",
    "# Add to samples array\n",
    "samples[:, 0] = mass_1\n",
    "samples[:, 1] = mass_2\n",
    "\n",
    "# Add true parameters\n",
    "truths = (injection_parameters['mass_1'], injection_parameters['mass_2'])\n",
    "\n",
    "# Plot corner plot\n",
    "fig = plt.figure(figsize=(8, 8))\n",
    "fig = corner.corner(\n",
    "    samples, truths=truths, labels=(r'$M_1$', r'$M_2$'), \n",
    "    quantiles=(0.16, 0.84), levels=(0.9, ), bins=20, fig=fig,\n",
    "    color='k', truth_color='r', show_titles=True, title_kwargs={\"fontsize\": 12})\n",
    "\n",
    "### -------------------END-CODE-------------------- ###"
   ]
  },
  {
   "cell_type": "markdown",
   "metadata": {},
   "source": [
    "#### Answer:\n",
    "The final values of the component masses $M_1$, $M_2$ of the BBH are:\n",
    "\\begin{equation}\n",
    "M_1 = 36.15^{+0.36}_{-0.37} M_\\odot \\;\\text{and}\\; M_2 = 28.91^{+0.16}_{-0.15} M_\\odot\n",
    "\\end{equation}"
   ]
  },
  {
   "cell_type": "markdown",
   "metadata": {},
   "source": [
    "## Conclusion\n",
    "\n",
    "Congratulations! You have reached the end of the tutorial. Parameter estimation is a tough problem in gravitational-wave physics (and many other areas of physics) due to the intractable nature of the posterior distribution. Posterior sampling algorithms, such as MCMC and Nested Sampling, help solve this problem at a cost of long run-time. This makes it difficult to perform electromagnetic follow-up of time-sensitive GW sources like binary neutron stars. \n",
    "\n",
    "Deep learning algorithms are currently being developed to accelerate the posterior sampling process:\n",
    "\n",
    "- https://arxiv.org/abs/2010.12931\n",
    "- https://arxiv.org/abs/2002.07656\n",
    "- https://arxiv.org/abs/2008.03312\n",
    "- ..."
   ]
  }
 ],
 "metadata": {
  "kernelspec": {
   "display_name": "Python 3",
   "language": "python",
   "name": "python3"
  },
  "language_info": {
   "codemirror_mode": {
    "name": "ipython",
    "version": 3
   },
   "file_extension": ".py",
   "mimetype": "text/x-python",
   "name": "python",
   "nbconvert_exporter": "python",
   "pygments_lexer": "ipython3",
   "version": "3.7.7"
  }
 },
 "nbformat": 4,
 "nbformat_minor": 4
}
